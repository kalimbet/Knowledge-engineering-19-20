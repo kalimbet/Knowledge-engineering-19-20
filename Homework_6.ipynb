{
  "nbformat": 4,
  "nbformat_minor": 0,
  "metadata": {
    "colab": {
      "name": "Homework_6.ipynb",
      "provenance": [],
      "collapsed_sections": []
    },
    "kernelspec": {
      "name": "python3",
      "display_name": "Python 3"
    }
  },
  "cells": [
    {
      "cell_type": "markdown",
      "metadata": {
        "id": "9RHxYBzAEvHE",
        "colab_type": "text"
      },
      "source": [
        "# Keras introduction, homework 6"
      ]
    },
    {
      "cell_type": "markdown",
      "metadata": {
        "id": "rKbrC_mxEx1w",
        "colab_type": "text"
      },
      "source": [
        "## Preload"
      ]
    },
    {
      "cell_type": "markdown",
      "metadata": {
        "id": "hBaZK5hsE5nt",
        "colab_type": "text"
      },
      "source": [
        "### Libraries"
      ]
    },
    {
      "cell_type": "code",
      "metadata": {
        "id": "KsNK1HvZsPVW",
        "colab_type": "code",
        "colab": {}
      },
      "source": [
        "%tensorflow_version 1.x\n",
        "import tensorflow as tf\n",
        "from keras.datasets import mnist\n",
        "from keras.models import Sequential\n",
        "from keras.layers import Dense\n",
        "from keras.layers import Dropout\n",
        "from keras.layers import Flatten\n",
        "from keras.layers.convolutional import Conv2D\n",
        "from keras.layers.convolutional import MaxPooling2D\n",
        "from keras.utils import np_utils\n",
        "import numpy as np\n",
        "import random\n",
        "import matplotlib.pyplot as plt\n",
        "from keras.utils.vis_utils import plot_model"
      ],
      "execution_count": 21,
      "outputs": []
    },
    {
      "cell_type": "markdown",
      "metadata": {
        "id": "Cu6OXsHgE93Q",
        "colab_type": "text"
      },
      "source": [
        "### Version"
      ]
    },
    {
      "cell_type": "code",
      "metadata": {
        "id": "b-9fV13hFCQQ",
        "colab_type": "code",
        "colab": {
          "base_uri": "https://localhost:8080/",
          "height": 34
        },
        "outputId": "bd28db31-8b11-4f0f-af0b-9591e02031b0"
      },
      "source": [
        "print('TF version ', tf.__version__)"
      ],
      "execution_count": 2,
      "outputs": [
        {
          "output_type": "stream",
          "text": [
            "TF version  1.15.2\n"
          ],
          "name": "stdout"
        }
      ]
    },
    {
      "cell_type": "markdown",
      "metadata": {
        "id": "4hv7eTeUFbnf",
        "colab_type": "text"
      },
      "source": [
        "## Excercise 1\n"
      ]
    },
    {
      "cell_type": "markdown",
      "metadata": {
        "id": "xARA1XTIFtFX",
        "colab_type": "text"
      },
      "source": [
        "Your task is to write a convolutional neural network\n",
        "which will try to classify handwritten digits"
      ]
    },
    {
      "cell_type": "markdown",
      "metadata": {
        "id": "SzgH8VLAFyXQ",
        "colab_type": "text"
      },
      "source": [
        "Your neural network should have 8 layers:\n",
        "1.   input Conv2D layer, with 30 filters (nuerons), kernel size\n",
        "should be 5x5, activation function ReLu (don’t forget\n",
        "about a proper input shape)\n",
        "2.   MaxPooling2D layer, with pool size 2x2\n",
        "3.   Conv2D layer, with 15 filters (nuerons), kernel size\n",
        "should be 3x3, activation function ReLu\n",
        "4.   MaxPooling2D layer, with pool size 2x2\n",
        "Keras introduction, homework 6\n",
        "5.   Flatten layer\n",
        "6.   Dense layer, with 128 neurons and activation function\n",
        "ReLu\n",
        "7.   Dense layer, with 50 neurons and activation function\n",
        "ReLu\n",
        "8.   output Dense layer, with 10 neurons and activation\n",
        "function softmax\n",
        "\n",
        "\n",
        "*   As the loss function, you should use\n",
        "categorical_crossentropy, the optimizer should be\n",
        "adam, and the metric should be accuracy\n",
        "*   Try as many epochs as you can (for example 20, 30)\n",
        "*   Print images, their labels and neural network predictions\n",
        "for 2 randomly chosen images from the test set\n",
        "\n",
        "\n",
        "\n"
      ]
    },
    {
      "cell_type": "markdown",
      "metadata": {
        "id": "4BPnOrwJGrPs",
        "colab_type": "text"
      },
      "source": [
        "### Solution"
      ]
    },
    {
      "cell_type": "markdown",
      "metadata": {
        "id": "EXIKJiJNGtm4",
        "colab_type": "text"
      },
      "source": [
        "Load data"
      ]
    },
    {
      "cell_type": "code",
      "metadata": {
        "id": "RbMSi1WeGxYv",
        "colab_type": "code",
        "colab": {}
      },
      "source": [
        "(X_train, y_train), (X_test, y_test) = mnist.load_data()\n",
        "(X_train_1, y_train_1), (X_test_1, y_test_1) = mnist.load_data()"
      ],
      "execution_count": 3,
      "outputs": []
    },
    {
      "cell_type": "markdown",
      "metadata": {
        "id": "JwJhTCbaG3Cu",
        "colab_type": "text"
      },
      "source": [
        "Reshape to be [samples][width][height][channels]"
      ]
    },
    {
      "cell_type": "code",
      "metadata": {
        "id": "DZcI-PY_G3Jv",
        "colab_type": "code",
        "colab": {}
      },
      "source": [
        "X_train = X_train.reshape((X_train.shape[0], 28, 28, 1)).astype('float32')\n",
        "X_test = X_test.reshape((X_test.shape[0], 28, 28, 1)).astype('float32')"
      ],
      "execution_count": 4,
      "outputs": []
    },
    {
      "cell_type": "markdown",
      "metadata": {
        "id": "sUMIPenbG9WQ",
        "colab_type": "text"
      },
      "source": [
        "Normalize inputs from 0-255 to 0-1"
      ]
    },
    {
      "cell_type": "code",
      "metadata": {
        "id": "Pnv1ppcqG__R",
        "colab_type": "code",
        "colab": {}
      },
      "source": [
        "X_train = X_train / 255\n",
        "X_test = X_test / 255"
      ],
      "execution_count": 5,
      "outputs": []
    },
    {
      "cell_type": "markdown",
      "metadata": {
        "id": "AONUJ96KHENp",
        "colab_type": "text"
      },
      "source": [
        "One hot encode outputs"
      ]
    },
    {
      "cell_type": "code",
      "metadata": {
        "id": "E0BRolcZHJfo",
        "colab_type": "code",
        "colab": {}
      },
      "source": [
        "y_train = np_utils.to_categorical(y_train)\n",
        "y_test = np_utils.to_categorical(y_test)\n",
        "num_classes = y_test.shape[1]"
      ],
      "execution_count": 6,
      "outputs": []
    },
    {
      "cell_type": "markdown",
      "metadata": {
        "id": "2oKgpIkwHKn5",
        "colab_type": "text"
      },
      "source": [
        "Define the nn_model"
      ]
    },
    {
      "cell_type": "code",
      "metadata": {
        "id": "kg4seWHHHKv4",
        "colab_type": "code",
        "colab": {}
      },
      "source": [
        "def nn_model():\n",
        "\tmodel = Sequential()\n",
        "\tmodel.add(Conv2D(30, (5, 5), input_shape=(28, 28, 1), activation='relu'))\n",
        "\tmodel.add(MaxPooling2D())\n",
        "\tmodel.add(Conv2D(15, (3, 3), activation='relu'))\n",
        "\tmodel.add(MaxPooling2D())\n",
        "\tmodel.add(Dropout(0.2))\n",
        "\tmodel.add(Flatten())\n",
        "\tmodel.add(Dense(128, activation='relu'))\n",
        "\tmodel.add(Dense(50, activation='relu'))\n",
        "\tmodel.add(Dense(num_classes, activation='softmax'))\n",
        "\tmodel.compile(loss='categorical_crossentropy', optimizer='adam', metrics=['accuracy'])\n",
        "\treturn model"
      ],
      "execution_count": 7,
      "outputs": []
    },
    {
      "cell_type": "markdown",
      "metadata": {
        "id": "u0GFd8JOHnoE",
        "colab_type": "text"
      },
      "source": [
        "Build the model"
      ]
    },
    {
      "cell_type": "code",
      "metadata": {
        "id": "2mDfPb_sHnw5",
        "colab_type": "code",
        "colab": {
          "base_uri": "https://localhost:8080/",
          "height": 122
        },
        "outputId": "d8572c24-f4fe-4e26-f477-b4a2c50b0ad8"
      },
      "source": [
        "model = nn_model()"
      ],
      "execution_count": 8,
      "outputs": [
        {
          "output_type": "stream",
          "text": [
            "WARNING:tensorflow:From /tensorflow-1.15.2/python3.6/tensorflow_core/python/ops/resource_variable_ops.py:1630: calling BaseResourceVariable.__init__ (from tensorflow.python.ops.resource_variable_ops) with constraint is deprecated and will be removed in a future version.\n",
            "Instructions for updating:\n",
            "If using Keras pass *_constraint arguments to layers.\n",
            "WARNING:tensorflow:From /usr/local/lib/python3.6/dist-packages/keras/backend/tensorflow_backend.py:4070: The name tf.nn.max_pool is deprecated. Please use tf.nn.max_pool2d instead.\n",
            "\n"
          ],
          "name": "stdout"
        }
      ]
    },
    {
      "cell_type": "markdown",
      "metadata": {
        "id": "Y0eVXmPrUZbf",
        "colab_type": "text"
      },
      "source": [
        "Plot of model"
      ]
    },
    {
      "cell_type": "code",
      "metadata": {
        "id": "Ni-z8YcBUgwU",
        "colab_type": "code",
        "colab": {
          "base_uri": "https://localhost:8080/",
          "height": 1000
        },
        "outputId": "00b7f526-3b34-4848-aa86-2c25947ab9ec"
      },
      "source": [
        "plot_model(model, to_file='plot_of_model.png', show_shapes=True, show_layer_names=True)"
      ],
      "execution_count": 22,
      "outputs": [
        {
          "output_type": "execute_result",
          "data": {
            "image/png": "[encoded data removed]",
            "text/plain": [
              "<IPython.core.display.Image object>"
            ]
          },
          "metadata": {
            "tags": []
          },
          "execution_count": 22
        }
      ]
    },
    {
      "cell_type": "markdown",
      "metadata": {
        "id": "PN_Gz_ylHtzZ",
        "colab_type": "text"
      },
      "source": [
        "Fit the model"
      ]
    },
    {
      "cell_type": "code",
      "metadata": {
        "id": "znrslyo0HtJn",
        "colab_type": "code",
        "colab": {
          "base_uri": "https://localhost:8080/",
          "height": 1000
        },
        "outputId": "441754c1-86eb-4ce9-f07e-66e4aaee3221"
      },
      "source": [
        "model.fit(X_train, y_train, validation_data=(X_test, y_test), epochs=30, batch_size=200)"
      ],
      "execution_count": 9,
      "outputs": [
        {
          "output_type": "stream",
          "text": [
            "WARNING:tensorflow:From /usr/local/lib/python3.6/dist-packages/keras/backend/tensorflow_backend.py:422: The name tf.global_variables is deprecated. Please use tf.compat.v1.global_variables instead.\n",
            "\n",
            "Train on 60000 samples, validate on 10000 samples\n",
            "Epoch 1/30\n",
            "60000/60000 [==============================] - 34s 571us/step - loss: 0.4094 - accuracy: 0.8739 - val_loss: 0.0760 - val_accuracy: 0.9772\n",
            "Epoch 2/30\n",
            "60000/60000 [==============================] - 34s 569us/step - loss: 0.0969 - accuracy: 0.9707 - val_loss: 0.0504 - val_accuracy: 0.9848\n",
            "Epoch 3/30\n",
            "60000/60000 [==============================] - 34s 573us/step - loss: 0.0696 - accuracy: 0.9784 - val_loss: 0.0371 - val_accuracy: 0.9875\n",
            "Epoch 4/30\n",
            "60000/60000 [==============================] - 34s 573us/step - loss: 0.0553 - accuracy: 0.9833 - val_loss: 0.0338 - val_accuracy: 0.9891\n",
            "Epoch 5/30\n",
            "60000/60000 [==============================] - 40s 661us/step - loss: 0.0480 - accuracy: 0.9854 - val_loss: 0.0324 - val_accuracy: 0.9900\n",
            "Epoch 6/30\n",
            "60000/60000 [==============================] - 34s 573us/step - loss: 0.0410 - accuracy: 0.9872 - val_loss: 0.0290 - val_accuracy: 0.9914\n",
            "Epoch 7/30\n",
            "60000/60000 [==============================] - 34s 574us/step - loss: 0.0372 - accuracy: 0.9885 - val_loss: 0.0253 - val_accuracy: 0.9923\n",
            "Epoch 8/30\n",
            "60000/60000 [==============================] - 34s 573us/step - loss: 0.0328 - accuracy: 0.9895 - val_loss: 0.0308 - val_accuracy: 0.9899\n",
            "Epoch 9/30\n",
            "60000/60000 [==============================] - 34s 574us/step - loss: 0.0314 - accuracy: 0.9901 - val_loss: 0.0250 - val_accuracy: 0.9925\n",
            "Epoch 10/30\n",
            "60000/60000 [==============================] - 34s 572us/step - loss: 0.0289 - accuracy: 0.9903 - val_loss: 0.0230 - val_accuracy: 0.9930\n",
            "Epoch 11/30\n",
            "60000/60000 [==============================] - 34s 573us/step - loss: 0.0266 - accuracy: 0.9910 - val_loss: 0.0269 - val_accuracy: 0.9921\n",
            "Epoch 12/30\n",
            "60000/60000 [==============================] - 34s 572us/step - loss: 0.0261 - accuracy: 0.9912 - val_loss: 0.0280 - val_accuracy: 0.9908\n",
            "Epoch 13/30\n",
            "60000/60000 [==============================] - 34s 569us/step - loss: 0.0237 - accuracy: 0.9926 - val_loss: 0.0247 - val_accuracy: 0.9921\n",
            "Epoch 14/30\n",
            "60000/60000 [==============================] - 34s 568us/step - loss: 0.0217 - accuracy: 0.9930 - val_loss: 0.0245 - val_accuracy: 0.9926\n",
            "Epoch 15/30\n",
            "60000/60000 [==============================] - 34s 572us/step - loss: 0.0210 - accuracy: 0.9930 - val_loss: 0.0246 - val_accuracy: 0.9929\n",
            "Epoch 16/30\n",
            "60000/60000 [==============================] - 34s 570us/step - loss: 0.0186 - accuracy: 0.9937 - val_loss: 0.0244 - val_accuracy: 0.9936\n",
            "Epoch 17/30\n",
            "60000/60000 [==============================] - 34s 571us/step - loss: 0.0194 - accuracy: 0.9932 - val_loss: 0.0299 - val_accuracy: 0.9907\n",
            "Epoch 18/30\n",
            "60000/60000 [==============================] - 34s 568us/step - loss: 0.0183 - accuracy: 0.9939 - val_loss: 0.0265 - val_accuracy: 0.9924\n",
            "Epoch 19/30\n",
            "60000/60000 [==============================] - 34s 573us/step - loss: 0.0171 - accuracy: 0.9942 - val_loss: 0.0300 - val_accuracy: 0.9911\n",
            "Epoch 20/30\n",
            "60000/60000 [==============================] - 34s 572us/step - loss: 0.0159 - accuracy: 0.9948 - val_loss: 0.0234 - val_accuracy: 0.9932\n",
            "Epoch 21/30\n",
            "60000/60000 [==============================] - 35s 579us/step - loss: 0.0145 - accuracy: 0.9950 - val_loss: 0.0242 - val_accuracy: 0.9929\n",
            "Epoch 22/30\n",
            "60000/60000 [==============================] - 34s 574us/step - loss: 0.0144 - accuracy: 0.9954 - val_loss: 0.0236 - val_accuracy: 0.9928\n",
            "Epoch 23/30\n",
            "60000/60000 [==============================] - 34s 572us/step - loss: 0.0135 - accuracy: 0.9952 - val_loss: 0.0256 - val_accuracy: 0.9926\n",
            "Epoch 24/30\n",
            "60000/60000 [==============================] - 34s 573us/step - loss: 0.0132 - accuracy: 0.9956 - val_loss: 0.0288 - val_accuracy: 0.9919\n",
            "Epoch 25/30\n",
            "60000/60000 [==============================] - 34s 574us/step - loss: 0.0136 - accuracy: 0.9954 - val_loss: 0.0305 - val_accuracy: 0.9922\n",
            "Epoch 26/30\n",
            "60000/60000 [==============================] - 34s 575us/step - loss: 0.0122 - accuracy: 0.9958 - val_loss: 0.0271 - val_accuracy: 0.9926\n",
            "Epoch 27/30\n",
            "60000/60000 [==============================] - 34s 572us/step - loss: 0.0121 - accuracy: 0.9962 - val_loss: 0.0230 - val_accuracy: 0.9936\n",
            "Epoch 28/30\n",
            "60000/60000 [==============================] - 34s 571us/step - loss: 0.0116 - accuracy: 0.9961 - val_loss: 0.0262 - val_accuracy: 0.9930\n",
            "Epoch 29/30\n",
            "60000/60000 [==============================] - 34s 572us/step - loss: 0.0100 - accuracy: 0.9965 - val_loss: 0.0248 - val_accuracy: 0.9935\n",
            "Epoch 30/30\n",
            "60000/60000 [==============================] - 34s 574us/step - loss: 0.0106 - accuracy: 0.9962 - val_loss: 0.0253 - val_accuracy: 0.9929\n"
          ],
          "name": "stdout"
        },
        {
          "output_type": "execute_result",
          "data": {
            "text/plain": [
              "<keras.callbacks.callbacks.History at 0x7f79c95762e8>"
            ]
          },
          "metadata": {
            "tags": []
          },
          "execution_count": 9
        }
      ]
    },
    {
      "cell_type": "markdown",
      "metadata": {
        "id": "bMt7bHv6HvmQ",
        "colab_type": "text"
      },
      "source": [
        "Final evaluation of the model"
      ]
    },
    {
      "cell_type": "code",
      "metadata": {
        "id": "81m4S1aMHvtZ",
        "colab_type": "code",
        "colab": {
          "base_uri": "https://localhost:8080/",
          "height": 34
        },
        "outputId": "e77c8eb4-06de-4de6-da21-bbf989a9a5d5"
      },
      "source": [
        "scores = model.evaluate(X_test, y_test, verbose=0)\n",
        "prediction = model.predict(X_test)\n",
        "print(\"CNN Error: %.2f%%\" % (100-scores[1]*100))"
      ],
      "execution_count": 10,
      "outputs": [
        {
          "output_type": "stream",
          "text": [
            "CNN Error: 0.71%\n"
          ],
          "name": "stdout"
        }
      ]
    },
    {
      "cell_type": "markdown",
      "metadata": {
        "id": "N8c_-r_uH-xx",
        "colab_type": "text"
      },
      "source": [
        "### Print images, their labels and neural network predictions for 2 randomly chosen images from the test set"
      ]
    },
    {
      "cell_type": "markdown",
      "metadata": {
        "id": "YWzs-GNnJWGN",
        "colab_type": "text"
      },
      "source": [
        "Indexes"
      ]
    },
    {
      "cell_type": "code",
      "metadata": {
        "id": "LSELPIA6JYEL",
        "colab_type": "code",
        "colab": {}
      },
      "source": [
        "INDEX_1 = random.randint(0, len(prediction))\n",
        "INDEX_2 = random.randint(0, len(prediction))"
      ],
      "execution_count": 11,
      "outputs": []
    },
    {
      "cell_type": "markdown",
      "metadata": {
        "id": "MW-HSeI4KgxO",
        "colab_type": "text"
      },
      "source": [
        "First randomly shosen image"
      ]
    },
    {
      "cell_type": "code",
      "metadata": {
        "id": "FSHUIgi63kvc",
        "colab_type": "code",
        "colab": {
          "base_uri": "https://localhost:8080/",
          "height": 452
        },
        "outputId": "ff7e800e-7544-4419-fd7c-014187c95c56"
      },
      "source": [
        "print(\"\\nPREDICTION: \" + str(prediction[INDEX_1]))\n",
        "print(\"\\nMax PREDICTION: \" + str(np.argmax(prediction[INDEX_1])))\n",
        "print(\"\\nLabel: \" + str(y_train_1[INDEX_1]))\n",
        "print(\"\\nImage:\\n\")\n",
        "\n",
        "plt.figure()\n",
        "plt.imshow(X_train_1[INDEX_1])\n",
        "plt.colorbar()\n",
        "plt.grid(False)\n",
        "plt.show()"
      ],
      "execution_count": 26,
      "outputs": [
        {
          "output_type": "stream",
          "text": [
            "\n",
            "PREDICTION: [2.80651614e-13 1.63139813e-08 4.54588478e-10 9.99968052e-01\n",
            " 3.09592022e-12 3.18941529e-05 1.10657525e-10 1.80174975e-09\n",
            " 2.78275264e-10 1.13071941e-09]\n",
            "\n",
            "Max PREDICTION: 3\n",
            "\n",
            "Label: 2\n",
            "\n",
            "Image:\n",
            "\n"
          ],
          "name": "stdout"
        },
        {
          "output_type": "display_data",
          "data": {
            "image/png": "[encoded data removed]",
            "text/plain": [
              "<Figure size 432x288 with 2 Axes>"
            ]
          },
          "metadata": {
            "tags": [],
            "needs_background": "light"
          }
        }
      ]
    },
    {
      "cell_type": "markdown",
      "metadata": {
        "id": "L_6V65e6Ko_S",
        "colab_type": "text"
      },
      "source": [
        "Second randomly shosen image"
      ]
    },
    {
      "cell_type": "code",
      "metadata": {
        "id": "wLmRo_x5KIKe",
        "colab_type": "code",
        "colab": {
          "base_uri": "https://localhost:8080/",
          "height": 452
        },
        "outputId": "5bfa11ae-d341-4d10-902d-9f20b99abee9"
      },
      "source": [
        "print(\"\\nPREDICTION: \" + str(prediction[INDEX_2]))\n",
        "print(\"\\nMax PREDICTION: \" + str(np.argmax(prediction[INDEX_2])))\n",
        "print(\"\\nLabel: \" + str(y_train_1[INDEX_2]))\n",
        "print(\"\\nImage:\\n\")\n",
        "\n",
        "plt.figure\n",
        "plt.imshow(X_train_1[INDEX_2])\n",
        "plt.colorbar()\n",
        "plt.grid(False)\n",
        "plt.show()"
      ],
      "execution_count": 25,
      "outputs": [
        {
          "output_type": "stream",
          "text": [
            "\n",
            "PREDICTION: [4.14672172e-08 1.01196825e-07 8.58439398e-06 1.13508850e-02\n",
            " 1.03958091e-05 5.82135469e-03 9.20865961e-09 5.07206224e-08\n",
            " 5.15288441e-04 9.82293308e-01]\n",
            "\n",
            "Max PREDICTION: 9\n",
            "\n",
            "Label: 6\n",
            "\n",
            "Image:\n",
            "\n"
          ],
          "name": "stdout"
        },
        {
          "output_type": "display_data",
          "data": {
            "image/png": "[encoded data removed]",
            "text/plain": [
              "<Figure size 432x288 with 2 Axes>"
            ]
          },
          "metadata": {
            "tags": [],
            "needs_background": "light"
          }
        }
      ]
    },
    {
      "cell_type": "markdown",
      "metadata": {
        "id": "32UFuqFgKwVK",
        "colab_type": "text"
      },
      "source": [
        "## Prepared by:"
      ]
    },
    {
      "cell_type": "markdown",
      "metadata": {
        "id": "1noKhk8oK0Xw",
        "colab_type": "text"
      },
      "source": [
        "Viktor Surzhko"
      ]
    }
  ]
}
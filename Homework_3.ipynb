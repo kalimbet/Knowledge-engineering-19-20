{
  "nbformat": 4,
  "nbformat_minor": 0,
  "metadata": {
    "colab": {
      "name": "Homework_3.ipynb",
      "provenance": [],
      "collapsed_sections": []
    },
    "kernelspec": {
      "name": "python3",
      "display_name": "Python 3"
    }
  },
  "cells": [
    {
      "cell_type": "markdown",
      "metadata": {
        "id": "qZDlDgm0mE91",
        "colab_type": "text"
      },
      "source": [
        "# TensorFlow introduction, homework 3"
      ]
    },
    {
      "cell_type": "markdown",
      "metadata": {
        "id": "3-dceD7HmH3H",
        "colab_type": "text"
      },
      "source": [
        "## Preload"
      ]
    },
    {
      "cell_type": "markdown",
      "metadata": {
        "id": "emjOkep5maUY",
        "colab_type": "text"
      },
      "source": [
        "### Libraries"
      ]
    },
    {
      "cell_type": "code",
      "metadata": {
        "id": "1RYj9r0OmbmB",
        "colab_type": "code",
        "colab": {
          "base_uri": "https://localhost:8080/",
          "height": 34
        },
        "outputId": "603df1f7-0b14-46b3-c8b2-d3ed6ac32177"
      },
      "source": [
        "%tensorflow_version 1.x\n",
        "import tensorflow as tf\n",
        "import math"
      ],
      "execution_count": 1,
      "outputs": [
        {
          "output_type": "stream",
          "text": [
            "TensorFlow 1.x selected.\n"
          ],
          "name": "stdout"
        }
      ]
    },
    {
      "cell_type": "markdown",
      "metadata": {
        "id": "gtgMqW7AmQ0g",
        "colab_type": "text"
      },
      "source": [
        "### Version"
      ]
    },
    {
      "cell_type": "code",
      "metadata": {
        "id": "bkuK9Cl9mSIo",
        "colab_type": "code",
        "colab": {
          "base_uri": "https://localhost:8080/",
          "height": 34
        },
        "outputId": "3e644944-fadd-4bf2-8556-ab7a14cd7a57"
      },
      "source": [
        "print('TF version ', tf.__version__)\n"
      ],
      "execution_count": 2,
      "outputs": [
        {
          "output_type": "stream",
          "text": [
            "TF version  1.15.2\n"
          ],
          "name": "stdout"
        }
      ]
    },
    {
      "cell_type": "markdown",
      "metadata": {
        "id": "1HSGzMW5myEf",
        "colab_type": "text"
      },
      "source": [
        "## Exercises"
      ]
    },
    {
      "cell_type": "markdown",
      "metadata": {
        "id": "v_tjEnpjmioR",
        "colab_type": "text"
      },
      "source": [
        "### Constants"
      ]
    },
    {
      "cell_type": "code",
      "metadata": {
        "id": "H1mgQ4lCml2Y",
        "colab_type": "code",
        "colab": {}
      },
      "source": [
        "CONSTANT_1 = tf.constant(12 / 4)\n",
        "CONSTANT_2 = tf.constant(3)\n",
        "CONSTANT_3 = tf.constant(25)\n",
        "CONSTANT_4 = tf.constant(13.8)\n",
        "CONSTANT_5 = tf.constant(14.3)\n",
        "CONSTANT_6 = tf.constant(0.4938)\n",
        "CONSTANT_X = tf.constant(math.sqrt(2.1 * math.pi))\n",
        "CONSTANT_N_1 = tf.constant((15) ** (1 / 3))\n",
        "CONSTANT_N_2 = tf.constant((math.e) ** (1 / 4))"
      ],
      "execution_count": 3,
      "outputs": []
    },
    {
      "cell_type": "markdown",
      "metadata": {
        "id": "h_8jz9cjmoRQ",
        "colab_type": "text"
      },
      "source": [
        "### Variables"
      ]
    },
    {
      "cell_type": "code",
      "metadata": {
        "id": "JFMeDNScmncp",
        "colab_type": "code",
        "colab": {}
      },
      "source": [
        "variable_1 = tf.Variable(16)\n",
        "variable_2 = tf.Variable(8 * 2)\n",
        "variable_3 = tf.Variable(5 ** 2)\n",
        "variable_4 = tf.Variable(15.9 - 2.1)\n",
        "variable_5 = tf.Variable((1.7 - 2.4) + 15)\n",
        "variable_7 = tf.Variable((2.07 - 1.3) ** 2.7)"
      ],
      "execution_count": 4,
      "outputs": []
    },
    {
      "cell_type": "markdown",
      "metadata": {
        "id": "03UQe5dKm7yA",
        "colab_type": "text"
      },
      "source": [
        "### Solution"
      ]
    },
    {
      "cell_type": "code",
      "metadata": {
        "id": "Cct6yvXknAvg",
        "colab_type": "code",
        "colab": {
          "base_uri": "https://localhost:8080/",
          "height": 68
        },
        "outputId": "72726d68-41cd-41c7-d098-30a4594b084a"
      },
      "source": [
        "init = tf.initialize_all_variables()\n",
        "sess = tf.InteractiveSession()\n",
        "sess.run(init)"
      ],
      "execution_count": 5,
      "outputs": [
        {
          "output_type": "stream",
          "text": [
            "WARNING:tensorflow:From /tensorflow-1.15.2/python3.6/tensorflow_core/python/util/tf_should_use.py:198: initialize_all_variables (from tensorflow.python.ops.variables) is deprecated and will be removed after 2017-03-02.\n",
            "Instructions for updating:\n",
            "Use `tf.global_variables_initializer` instead.\n"
          ],
          "name": "stdout"
        }
      ]
    },
    {
      "cell_type": "markdown",
      "metadata": {
        "id": "6CZjmzBsnJBM",
        "colab_type": "text"
      },
      "source": [
        "#### 1. Use constant values only: 12/4 = 3"
      ]
    },
    {
      "cell_type": "code",
      "metadata": {
        "id": "is0wBvmknZYc",
        "colab_type": "code",
        "colab": {
          "base_uri": "https://localhost:8080/",
          "height": 34
        },
        "outputId": "43014437-ae09-4fc5-ad37-e6104d4ec052"
      },
      "source": [
        "if sess.run(CONSTANT_1) == sess.run(CONSTANT_2):\n",
        "  print(\"TRUE\")\n",
        "else:\n",
        "  print(\"FALSE\")"
      ],
      "execution_count": 6,
      "outputs": [
        {
          "output_type": "stream",
          "text": [
            "TRUE\n"
          ],
          "name": "stdout"
        }
      ]
    },
    {
      "cell_type": "markdown",
      "metadata": {
        "id": "C-tFZrggnsta",
        "colab_type": "text"
      },
      "source": [
        "#### 2. Use variables only: 16 = 8x2\n"
      ]
    },
    {
      "cell_type": "code",
      "metadata": {
        "id": "eiBHveXpntBI",
        "colab_type": "code",
        "colab": {
          "base_uri": "https://localhost:8080/",
          "height": 34
        },
        "outputId": "9583b0bb-fb58-474b-e19c-ebfdde34e52b"
      },
      "source": [
        "if variable_1.eval() == variable_2.eval():\n",
        "  print(\"TRUE\")\n",
        "else:\n",
        "  print(\"FALSE\")"
      ],
      "execution_count": 7,
      "outputs": [
        {
          "output_type": "stream",
          "text": [
            "TRUE\n"
          ],
          "name": "stdout"
        }
      ]
    },
    {
      "cell_type": "markdown",
      "metadata": {
        "id": "d5WBG63En9Ze",
        "colab_type": "text"
      },
      "source": [
        "#### 3. Use constant values and variables: 25 = 5^2"
      ]
    },
    {
      "cell_type": "code",
      "metadata": {
        "id": "ugxxVzfNn9jY",
        "colab_type": "code",
        "colab": {
          "base_uri": "https://localhost:8080/",
          "height": 34
        },
        "outputId": "9615ab70-c6c6-4ccc-c227-43953affa0cd"
      },
      "source": [
        "if sess.run(CONSTANT_3) == variable_3.eval():\n",
        "  print(\"TRUE\")\n",
        "else:\n",
        "  print(\"FALSE\")"
      ],
      "execution_count": 8,
      "outputs": [
        {
          "output_type": "stream",
          "text": [
            "TRUE\n"
          ],
          "name": "stdout"
        }
      ]
    },
    {
      "cell_type": "markdown",
      "metadata": {
        "id": "i5j1GzALoJ0K",
        "colab_type": "text"
      },
      "source": [
        "#### 4. Use constant values and variables: 13.8 = 15.9 − 2.1"
      ]
    },
    {
      "cell_type": "code",
      "metadata": {
        "id": "ssBaBfVqoL3B",
        "colab_type": "code",
        "colab": {
          "base_uri": "https://localhost:8080/",
          "height": 34
        },
        "outputId": "ecf1de24-e468-4867-b0d7-a1fdeb0a6bcb"
      },
      "source": [
        "if sess.run(CONSTANT_4) == variable_4.eval():\n",
        "  print(\"TRUE\")\n",
        "else:\n",
        "  print(\"FALSE\")"
      ],
      "execution_count": 9,
      "outputs": [
        {
          "output_type": "stream",
          "text": [
            "TRUE\n"
          ],
          "name": "stdout"
        }
      ]
    },
    {
      "cell_type": "markdown",
      "metadata": {
        "id": "6K-iih9joR8P",
        "colab_type": "text"
      },
      "source": [
        "#### 5. Use constant values and variables: 14.3 = (1.7−2.4) +15"
      ]
    },
    {
      "cell_type": "code",
      "metadata": {
        "id": "gQ2gjWddoU9g",
        "colab_type": "code",
        "colab": {
          "base_uri": "https://localhost:8080/",
          "height": 34
        },
        "outputId": "ba1a33d2-0cad-45a2-9035-6ce4e4b67b3b"
      },
      "source": [
        "if sess.run(CONSTANT_5) == variable_5.eval():\n",
        "  print(\"TRUE\")\n",
        "else:\n",
        "  print(\"FALSE\")"
      ],
      "execution_count": 10,
      "outputs": [
        {
          "output_type": "stream",
          "text": [
            "TRUE\n"
          ],
          "name": "stdout"
        }
      ]
    },
    {
      "cell_type": "markdown",
      "metadata": {
        "id": "xpi3FOPQoZLQ",
        "colab_type": "text"
      },
      "source": [
        "#### 6. Use constant values and variables: 0.4938 = (2.07 − 1.3)^2.7"
      ]
    },
    {
      "cell_type": "code",
      "metadata": {
        "id": "vVO7nQ_NonLQ",
        "colab_type": "code",
        "colab": {
          "base_uri": "https://localhost:8080/",
          "height": 34
        },
        "outputId": "af95d79e-ade0-4661-92a2-ca724792fea8"
      },
      "source": [
        "if sess.run(CONSTANT_6) == variable_7.eval():\n",
        "  print(\"TRUE\")\n",
        "else:\n",
        "  print(\"FALSE\")"
      ],
      "execution_count": 11,
      "outputs": [
        {
          "output_type": "stream",
          "text": [
            "FALSE\n"
          ],
          "name": "stdout"
        }
      ]
    },
    {
      "cell_type": "markdown",
      "metadata": {
        "id": "Je7zP1lBop7Z",
        "colab_type": "text"
      },
      "source": [
        "#### 7. Use constant values and variables: x = sqr(2.1* Pi)"
      ]
    },
    {
      "cell_type": "code",
      "metadata": {
        "id": "B4R0RZOcpC0U",
        "colab_type": "code",
        "colab": {
          "base_uri": "https://localhost:8080/",
          "height": 34
        },
        "outputId": "8579107c-078b-4ecb-b6bc-aa4ead087075"
      },
      "source": [
        "print(\"x =\", sess.run(CONSTANT_X))"
      ],
      "execution_count": 12,
      "outputs": [
        {
          "output_type": "stream",
          "text": [
            "x = 2.5685296\n"
          ],
          "name": "stdout"
        }
      ]
    },
    {
      "cell_type": "markdown",
      "metadata": {
        "id": "3nSXj8b9pEhK",
        "colab_type": "text"
      },
      "source": [
        "#### 8. Use constant values and variables: x = sqr(2.1*Pi)^3"
      ]
    },
    {
      "cell_type": "code",
      "metadata": {
        "id": "8Pgfo1oWpMoy",
        "colab_type": "code",
        "colab": {
          "base_uri": "https://localhost:8080/",
          "height": 34
        },
        "outputId": "0b32a617-af40-47ac-c7ce-bd240c74e252"
      },
      "source": [
        "print(\"n =\", sess.run(CONSTANT_N_1))"
      ],
      "execution_count": 13,
      "outputs": [
        {
          "output_type": "stream",
          "text": [
            "n = 2.466212\n"
          ],
          "name": "stdout"
        }
      ]
    },
    {
      "cell_type": "markdown",
      "metadata": {
        "id": "npJUD4ClpRFC",
        "colab_type": "text"
      },
      "source": [
        "#### 9. Use constant values and variables: n=sqr(e)^4"
      ]
    },
    {
      "cell_type": "code",
      "metadata": {
        "id": "op00n-mEpRN6",
        "colab_type": "code",
        "colab": {
          "base_uri": "https://localhost:8080/",
          "height": 34
        },
        "outputId": "f5a77077-c92b-49b1-89a8-898a2836e3e4"
      },
      "source": [
        "print(\"n =\", sess.run(CONSTANT_N_2))\n",
        "sess.close()"
      ],
      "execution_count": 14,
      "outputs": [
        {
          "output_type": "stream",
          "text": [
            "n = 1.2840254\n"
          ],
          "name": "stdout"
        }
      ]
    },
    {
      "cell_type": "markdown",
      "metadata": {
        "id": "zLlfDdWqqm5U",
        "colab_type": "text"
      },
      "source": [
        "## Prepared by:"
      ]
    },
    {
      "cell_type": "markdown",
      "metadata": {
        "id": "K7KkdnWgqo8L",
        "colab_type": "text"
      },
      "source": [
        "Viktor Surzhko"
      ]
    }
  ]
}
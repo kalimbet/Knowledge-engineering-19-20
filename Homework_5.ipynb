{
  "nbformat": 4,
  "nbformat_minor": 0,
  "metadata": {
    "colab": {
      "name": "Homework_5.ipynb",
      "provenance": [],
      "collapsed_sections": []
    },
    "kernelspec": {
      "name": "python3",
      "display_name": "Python 3"
    }
  },
  "cells": [
    {
      "cell_type": "markdown",
      "metadata": {
        "id": "qa3FRAzraA9C",
        "colab_type": "text"
      },
      "source": [
        "# Keras introduction, homework 5"
      ]
    },
    {
      "cell_type": "markdown",
      "metadata": {
        "id": "TODTznKoaJJO",
        "colab_type": "text"
      },
      "source": [
        "## Preload"
      ]
    },
    {
      "cell_type": "markdown",
      "metadata": {
        "id": "GhzFYEETaM_E",
        "colab_type": "text"
      },
      "source": [
        "### Libraries"
      ]
    },
    {
      "cell_type": "code",
      "metadata": {
        "id": "8HmSjc-NVtdO",
        "colab_type": "code",
        "colab": {
          "base_uri": "https://localhost:8080/",
          "height": 51
        },
        "outputId": "6faf6cb7-eae2-4405-91f7-0551bbbc6322"
      },
      "source": [
        "%tensorflow_version 1.x\n",
        "import tensorflow as tf\n",
        "from tensorflow import keras\n",
        "import numpy as np\n",
        "import matplotlib.pyplot as plt\n",
        "from keras.datasets import mnist\n",
        "import numpy as np\n",
        "import random"
      ],
      "execution_count": 1,
      "outputs": [
        {
          "output_type": "stream",
          "text": [
            "TensorFlow 1.x selected.\n"
          ],
          "name": "stdout"
        },
        {
          "output_type": "stream",
          "text": [
            "Using TensorFlow backend.\n"
          ],
          "name": "stderr"
        }
      ]
    },
    {
      "cell_type": "markdown",
      "metadata": {
        "id": "gpx9IVdyaSh2",
        "colab_type": "text"
      },
      "source": [
        "### Version"
      ]
    },
    {
      "cell_type": "code",
      "metadata": {
        "id": "Do-dBZBCaUZY",
        "colab_type": "code",
        "colab": {
          "base_uri": "https://localhost:8080/",
          "height": 34
        },
        "outputId": "5b176c59-edcc-4d10-bba9-e05c9c3c5d1f"
      },
      "source": [
        "print('TF version ', tf.__version__)"
      ],
      "execution_count": 2,
      "outputs": [
        {
          "output_type": "stream",
          "text": [
            "TF version  1.15.2\n"
          ],
          "name": "stdout"
        }
      ]
    },
    {
      "cell_type": "markdown",
      "metadata": {
        "id": "Gfe4PyQqafrg",
        "colab_type": "text"
      },
      "source": [
        "## Excercise 1"
      ]
    },
    {
      "cell_type": "markdown",
      "metadata": {
        "id": "jYZq2dbjamd-",
        "colab_type": "text"
      },
      "source": [
        "1. Your task is to write a feed-forward artificial neural\n",
        "network which will try to classify handwritten digits\n"
      ]
    },
    {
      "cell_type": "markdown",
      "metadata": {
        "id": "jB1ugPaPao_W",
        "colab_type": "text"
      },
      "source": [
        "Your neural network should have 3 Dense layers:\n",
        "\n",
        "\n",
        "1.   input layer with 128 neurons and activation function\n",
        "ReLu\n",
        "2.   hidden layer with 128 neurons and activation function\n",
        "ReLu\n",
        "\n",
        "3.   output layer with 10 neurons and activation function\n",
        "Softmax\n",
        "\n",
        "*   As the loss function, you should use\n",
        "categorical_crossentropy, the optimizer should be\n",
        "adam, and the metric should be accuracy\n",
        "*   Try as many epochs as you can (for example 20, 30)\n",
        "*   Print images, their labels and neural network predictions\n",
        "for 2 randomly chosen images from the test set\n",
        "\n",
        "\n",
        "\n"
      ]
    },
    {
      "cell_type": "markdown",
      "metadata": {
        "id": "qIYmjiWJb-1R",
        "colab_type": "text"
      },
      "source": [
        "Import MNIST dataset"
      ]
    },
    {
      "cell_type": "code",
      "metadata": {
        "id": "HXNIjJE0V3_g",
        "colab_type": "code",
        "colab": {}
      },
      "source": [
        "(train_images, train_labels), (test_images, test_labels) = mnist.load_data()\n"
      ],
      "execution_count": 3,
      "outputs": []
    },
    {
      "cell_type": "markdown",
      "metadata": {
        "id": "N1DO1i8QcFwA",
        "colab_type": "text"
      },
      "source": [
        "Set class names"
      ]
    },
    {
      "cell_type": "code",
      "metadata": {
        "id": "TEHxNGwHV62K",
        "colab_type": "code",
        "colab": {}
      },
      "source": [
        "class_names = ['Zero', 'One', 'Two', 'Three', 'Four',\n",
        "               'Five', 'Six', 'Seven', 'Eight', 'Nine']"
      ],
      "execution_count": 4,
      "outputs": []
    },
    {
      "cell_type": "markdown",
      "metadata": {
        "id": "ncl8weBycuV4",
        "colab_type": "text"
      },
      "source": [
        "Normalize inputs from 0-255 to 0-1"
      ]
    },
    {
      "cell_type": "code",
      "metadata": {
        "id": "5KDYGVlBWDLY",
        "colab_type": "code",
        "colab": {}
      },
      "source": [
        "train_images = train_images / 255.0\n",
        "test_images = test_images / 255.0"
      ],
      "execution_count": 5,
      "outputs": []
    },
    {
      "cell_type": "markdown",
      "metadata": {
        "id": "1wEMAZ-Vc1Z3",
        "colab_type": "text"
      },
      "source": [
        "Define the model"
      ]
    },
    {
      "cell_type": "code",
      "metadata": {
        "id": "3dt1PYeVWFaX",
        "colab_type": "code",
        "colab": {}
      },
      "source": [
        "model = keras.Sequential([\n",
        "    keras.layers.Flatten(input_shape=(28, 28)),\n",
        "    keras.layers.Dense(128, activation='relu'),\n",
        "    keras.layers.Dense(128, activation='relu'),\n",
        "    keras.layers.Dense(10)\n",
        "])"
      ],
      "execution_count": 21,
      "outputs": []
    },
    {
      "cell_type": "markdown",
      "metadata": {
        "id": "eMhCeVNopw8Z",
        "colab_type": "text"
      },
      "source": [
        "Plot of model"
      ]
    },
    {
      "cell_type": "code",
      "metadata": {
        "id": "wHhKO8M_pwfj",
        "colab_type": "code",
        "colab": {
          "base_uri": "https://localhost:8080/",
          "height": 466
        },
        "outputId": "0ff08cc3-19d4-42ac-e9fc-03e6b7264077"
      },
      "source": [
        "tf.keras.utils.plot_model(model, to_file='model_combined.png')"
      ],
      "execution_count": 22,
      "outputs": [
        {
          "output_type": "execute_result",
          "data": {
            "image/png": "[encoded data removed]",
            "text/plain": [
              "<IPython.core.display.Image object>"
            ]
          },
          "metadata": {
            "tags": []
          },
          "execution_count": 22
        }
      ]
    },
    {
      "cell_type": "markdown",
      "metadata": {
        "id": "1TSyek_Cc3mW",
        "colab_type": "text"
      },
      "source": [
        "Compile the model"
      ]
    },
    {
      "cell_type": "code",
      "metadata": {
        "id": "lJRikbArWHNo",
        "colab_type": "code",
        "colab": {}
      },
      "source": [
        "model.compile(optimizer='adam',\n",
        "              loss=tf.keras.losses.SparseCategoricalCrossentropy(from_logits=True),\n",
        "              metrics=['accuracy'])"
      ],
      "execution_count": 23,
      "outputs": []
    },
    {
      "cell_type": "markdown",
      "metadata": {
        "id": "b34odtBjdC7e",
        "colab_type": "text"
      },
      "source": [
        "Train the model"
      ]
    },
    {
      "cell_type": "code",
      "metadata": {
        "id": "oKn3-_xaWImp",
        "colab_type": "code",
        "colab": {
          "base_uri": "https://localhost:8080/",
          "height": 391
        },
        "outputId": "0b5ff8cc-afe7-4dbf-f6cf-1c1d8384a485"
      },
      "source": [
        "model.fit(train_images, train_labels, epochs=10)"
      ],
      "execution_count": 24,
      "outputs": [
        {
          "output_type": "stream",
          "text": [
            "Train on 60000 samples\n",
            "Epoch 1/10\n",
            "60000/60000 [==============================] - 5s 89us/sample - loss: 0.2339 - acc: 0.9308\n",
            "Epoch 2/10\n",
            "60000/60000 [==============================] - 5s 83us/sample - loss: 0.0970 - acc: 0.9705\n",
            "Epoch 3/10\n",
            "60000/60000 [==============================] - 5s 79us/sample - loss: 0.0688 - acc: 0.9784\n",
            "Epoch 4/10\n",
            "60000/60000 [==============================] - 5s 79us/sample - loss: 0.0520 - acc: 0.9830\n",
            "Epoch 5/10\n",
            "60000/60000 [==============================] - 5s 79us/sample - loss: 0.0407 - acc: 0.9871\n",
            "Epoch 6/10\n",
            "60000/60000 [==============================] - 5s 78us/sample - loss: 0.0330 - acc: 0.9892\n",
            "Epoch 7/10\n",
            "60000/60000 [==============================] - 5s 79us/sample - loss: 0.0273 - acc: 0.9910\n",
            "Epoch 8/10\n",
            "60000/60000 [==============================] - 5s 78us/sample - loss: 0.0226 - acc: 0.9926\n",
            "Epoch 9/10\n",
            "60000/60000 [==============================] - 5s 79us/sample - loss: 0.0219 - acc: 0.9923\n",
            "Epoch 10/10\n",
            "60000/60000 [==============================] - 5s 77us/sample - loss: 0.0196 - acc: 0.9937\n"
          ],
          "name": "stdout"
        },
        {
          "output_type": "execute_result",
          "data": {
            "text/plain": [
              "<tensorflow.python.keras.callbacks.History at 0x7f44952b8128>"
            ]
          },
          "metadata": {
            "tags": []
          },
          "execution_count": 24
        }
      ]
    },
    {
      "cell_type": "markdown",
      "metadata": {
        "id": "kZb_o-2GeOBI",
        "colab_type": "text"
      },
      "source": [
        "Evaluate accuracy"
      ]
    },
    {
      "cell_type": "code",
      "metadata": {
        "id": "3JTKYOtCWJ72",
        "colab_type": "code",
        "colab": {
          "base_uri": "https://localhost:8080/",
          "height": 51
        },
        "outputId": "6ebf7aad-ffc1-4fac-9164-7ad924f2689e"
      },
      "source": [
        "test_loss, test_acc = model.evaluate(test_images,  test_labels, verbose=0)\n",
        "print('\\nCNN Error:', test_acc)"
      ],
      "execution_count": 25,
      "outputs": [
        {
          "output_type": "stream",
          "text": [
            "\n",
            "CNN Error: 0.9779\n"
          ],
          "name": "stdout"
        }
      ]
    },
    {
      "cell_type": "markdown",
      "metadata": {
        "id": "rKC_5UH4fPFy",
        "colab_type": "text"
      },
      "source": [
        "Prediction"
      ]
    },
    {
      "cell_type": "code",
      "metadata": {
        "id": "s6Aefpa3WK5S",
        "colab_type": "code",
        "colab": {}
      },
      "source": [
        "probability_model = tf.keras.Sequential([model, \n",
        "                                         tf.keras.layers.Softmax()])"
      ],
      "execution_count": 26,
      "outputs": []
    },
    {
      "cell_type": "code",
      "metadata": {
        "id": "XWdaf1LiWMhs",
        "colab_type": "code",
        "colab": {}
      },
      "source": [
        "prediction = probability_model.predict(test_images)"
      ],
      "execution_count": 27,
      "outputs": []
    },
    {
      "cell_type": "markdown",
      "metadata": {
        "id": "GTnoUQrAgupZ",
        "colab_type": "text"
      },
      "source": [
        "### Print images, their labels and neural network predictions for 2 randomly chosen images from the test set"
      ]
    },
    {
      "cell_type": "markdown",
      "metadata": {
        "id": "Wr_h4fWZi-gg",
        "colab_type": "text"
      },
      "source": [
        "Methods for draw plots"
      ]
    },
    {
      "cell_type": "code",
      "metadata": {
        "id": "lzbwV9AJjCvO",
        "colab_type": "code",
        "colab": {}
      },
      "source": [
        "def plot_image(i, predictions_array, true_label, img):\n",
        "  predictions_array, true_label, img = predictions_array, true_label[i], img[i]\n",
        "  plt.grid(False)\n",
        "  plt.xticks([])\n",
        "  plt.yticks([])\n",
        "\n",
        "  plt.imshow(img)\n",
        "  plt.colorbar()\n",
        "  predicted_label = np.argmax(predictions_array)\n",
        "  if predicted_label == true_label:\n",
        "    color = 'blue'\n",
        "  else:\n",
        "    color = 'red'\n",
        "\n",
        "  plt.xlabel(\"{} {:2.0f}% ({})\".format(class_names[predicted_label],\n",
        "                                100*np.max(predictions_array),\n",
        "                                class_names[true_label]),\n",
        "                                color=color)\n",
        "\n",
        "def plot_value_array(i, predictions_array, true_label):\n",
        "  predictions_array, true_label = predictions_array, true_label[i]\n",
        "  plt.grid(False)\n",
        "  plt.xticks(range(10))\n",
        "  plt.yticks([])\n",
        "  thisplot = plt.bar(range(10), predictions_array, color=\"#777777\")\n",
        "  plt.ylim([0, 1])\n",
        "  predicted_label = np.argmax(predictions_array)\n",
        "\n",
        "  thisplot[predicted_label].set_color('red')\n",
        "  thisplot[true_label].set_color('blue')"
      ],
      "execution_count": 28,
      "outputs": []
    },
    {
      "cell_type": "markdown",
      "metadata": {
        "id": "XfUQvgRrfpLg",
        "colab_type": "text"
      },
      "source": [
        "Indexes"
      ]
    },
    {
      "cell_type": "code",
      "metadata": {
        "id": "c4fx8SVnfpvG",
        "colab_type": "code",
        "colab": {}
      },
      "source": [
        "INDEX_1 = random.randint(0, len(prediction))\n",
        "INDEX_2 = random.randint(0, len(prediction))"
      ],
      "execution_count": 32,
      "outputs": []
    },
    {
      "cell_type": "markdown",
      "metadata": {
        "id": "NkWQ-SuHo-pF",
        "colab_type": "text"
      },
      "source": [
        "First randomly shosen image"
      ]
    },
    {
      "cell_type": "code",
      "metadata": {
        "id": "p3plzhCWWR28",
        "colab_type": "code",
        "colab": {
          "base_uri": "https://localhost:8080/",
          "height": 313
        },
        "outputId": "82b419b8-0997-4400-ff15-92d443c35548"
      },
      "source": [
        "print(\"\\nPREDICTION: \" + str(prediction[INDEX_1]))\n",
        "print(\"\\nImage:\\n\")\n",
        "plt.figure(figsize=(6,3))\n",
        "plt.subplot(1,2,1)\n",
        "plot_image(INDEX_1, prediction[INDEX_1], test_labels, test_images)\n",
        "plt.subplot(1,2,2)\n",
        "plot_value_array(INDEX_1, prediction[INDEX_1],  test_labels)\n",
        "plt.show()"
      ],
      "execution_count": 33,
      "outputs": [
        {
          "output_type": "stream",
          "text": [
            "\n",
            "PREDICTION: [1.8275523e-08 6.5316907e-10 1.0717423e-09 5.7991323e-10 5.0748156e-12\n",
            " 3.9609510e-11 1.1318294e-10 3.7178725e-09 1.0000000e+00 2.9613306e-10]\n",
            "\n",
            "Image:\n",
            "\n"
          ],
          "name": "stdout"
        },
        {
          "output_type": "display_data",
          "data": {
            "image/png": "[encoded data removed]",
            "text/plain": [
              "<Figure size 432x216 with 3 Axes>"
            ]
          },
          "metadata": {
            "tags": [],
            "needs_background": "light"
          }
        }
      ]
    },
    {
      "cell_type": "markdown",
      "metadata": {
        "id": "rHnkHb8cpCUg",
        "colab_type": "text"
      },
      "source": [
        "Second randomly shosen image"
      ]
    },
    {
      "cell_type": "code",
      "metadata": {
        "id": "aqkOTE02WS9l",
        "colab_type": "code",
        "colab": {
          "base_uri": "https://localhost:8080/",
          "height": 317
        },
        "outputId": "8bcbfab6-4556-4e7a-d905-cad35889abcb"
      },
      "source": [
        "print(\"\\nPREDICTION: \" + str(prediction[INDEX_2]))\n",
        "print(\"\\nImage:\\n\")\n",
        "plt.figure(figsize=(6,3))\n",
        "plt.subplot(1,2,1)\n",
        "plot_image(INDEX_2, prediction[INDEX_2], test_labels, test_images)\n",
        "plt.subplot(1,2,2)\n",
        "plot_value_array(INDEX_2, prediction[INDEX_2],  test_labels)\n",
        "plt.show()"
      ],
      "execution_count": 34,
      "outputs": [
        {
          "output_type": "stream",
          "text": [
            "\n",
            "PREDICTION: [2.5770570e-09 1.0182908e-06 1.2338093e-07 1.0825621e-06 8.2151182e-06\n",
            " 1.6550730e-10 5.5503840e-14 4.9415627e-05 1.9707128e-08 9.9994016e-01]\n",
            "\n",
            "Image:\n",
            "\n"
          ],
          "name": "stdout"
        },
        {
          "output_type": "display_data",
          "data": {
            "image/png": "[encoded data removed]",
            "text/plain": [
              "<Figure size 432x216 with 3 Axes>"
            ]
          },
          "metadata": {
            "tags": [],
            "needs_background": "light"
          }
        }
      ]
    },
    {
      "cell_type": "markdown",
      "metadata": {
        "id": "3BFXw4V_pF3A",
        "colab_type": "text"
      },
      "source": [
        "## Prepared by:"
      ]
    },
    {
      "cell_type": "markdown",
      "metadata": {
        "id": "JfCnBuAepLZZ",
        "colab_type": "text"
      },
      "source": [
        "Viktor Surzhko"
      ]
    }
  ]
}
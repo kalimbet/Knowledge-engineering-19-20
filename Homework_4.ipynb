{
  "nbformat": 4,
  "nbformat_minor": 0,
  "metadata": {
    "colab": {
      "name": "Homework_4.ipynb",
      "provenance": [],
      "collapsed_sections": [
        "R0c83NRAOePG",
        "vcfaS0yuNkZ0",
        "I5OWsq48Nowb",
        "k5wAsFmoLmel",
        "z33HJy5hLx0k",
        "SmFd0brHOF36"
      ]
    },
    "kernelspec": {
      "name": "python3",
      "display_name": "Python 3"
    }
  },
  "cells": [
    {
      "cell_type": "markdown",
      "metadata": {
        "id": "edFM-ep3NQ8y",
        "colab_type": "text"
      },
      "source": [
        "# TensorFlow introduction, homework 4\n"
      ]
    },
    {
      "cell_type": "markdown",
      "metadata": {
        "id": "R0c83NRAOePG",
        "colab_type": "text"
      },
      "source": [
        "## Preload"
      ]
    },
    {
      "cell_type": "markdown",
      "metadata": {
        "id": "I5OWsq48Nowb",
        "colab_type": "text"
      },
      "source": [
        "### Libraries"
      ]
    },
    {
      "cell_type": "code",
      "metadata": {
        "id": "HzKrMkHkAs_g",
        "colab_type": "code",
        "colab": {
          "base_uri": "https://localhost:8080/",
          "height": 51
        },
        "outputId": "86246304-8f52-4dba-8a78-0049d90b6522"
      },
      "source": [
        "%tensorflow_version 1.x\n",
        "import tensorflow as tf\n",
        "from tensorflow.keras import layers\n",
        "from keras.models import Sequential\n",
        "from keras.layers import Dense\n",
        "from keras.utils.vis_utils import plot_model"
      ],
      "execution_count": 1,
      "outputs": [
        {
          "output_type": "stream",
          "text": [
            "TensorFlow 1.x selected.\n"
          ],
          "name": "stdout"
        },
        {
          "output_type": "stream",
          "text": [
            "Using TensorFlow backend.\n"
          ],
          "name": "stderr"
        }
      ]
    },
    {
      "cell_type": "markdown",
      "metadata": {
        "id": "vcfaS0yuNkZ0",
        "colab_type": "text"
      },
      "source": [
        "### Version"
      ]
    },
    {
      "cell_type": "code",
      "metadata": {
        "id": "7pnhw5j0KhcK",
        "colab_type": "code",
        "colab": {
          "base_uri": "https://localhost:8080/",
          "height": 34
        },
        "outputId": "40252727-10c0-4fbf-dbbc-8ab6fcb0d26f"
      },
      "source": [
        "print('TF version ', tf.__version__)"
      ],
      "execution_count": 2,
      "outputs": [
        {
          "output_type": "stream",
          "text": [
            "TF version  1.15.2\n"
          ],
          "name": "stdout"
        }
      ]
    },
    {
      "cell_type": "markdown",
      "metadata": {
        "id": "k5wAsFmoLmel",
        "colab_type": "text"
      },
      "source": [
        "## Exercise 1:"
      ]
    },
    {
      "cell_type": "markdown",
      "metadata": {
        "id": "c9XnjW1QLrbx",
        "colab_type": "text"
      },
      "source": [
        "Perform the following exercises on tensors. Print\n",
        "the result.\n"
      ]
    },
    {
      "cell_type": "markdown",
      "metadata": {
        "id": "6_Nf9-55L513",
        "colab_type": "text"
      },
      "source": [
        "### a) Define a matrix, use constant value."
      ]
    },
    {
      "cell_type": "markdown",
      "metadata": {
        "id": "XzsJYHqyPb0L",
        "colab_type": "text"
      },
      "source": [
        "Code:"
      ]
    },
    {
      "cell_type": "code",
      "metadata": {
        "id": "os4vEHMcC372",
        "colab_type": "code",
        "colab": {}
      },
      "source": [
        "sess = tf.Session()\n",
        "sess.run(tf.global_variables_initializer())\n",
        "matrix_1 = tf.constant([[[1, 2], [3, 4], [5, 6]]], tf.int16)"
      ],
      "execution_count": 3,
      "outputs": []
    },
    {
      "cell_type": "markdown",
      "metadata": {
        "id": "UJcOuvxoPdfK",
        "colab_type": "text"
      },
      "source": [
        "Output:"
      ]
    },
    {
      "cell_type": "code",
      "metadata": {
        "id": "DxXeGVQTPe06",
        "colab_type": "code",
        "colab": {
          "base_uri": "https://localhost:8080/",
          "height": 68
        },
        "outputId": "76d7d12f-0b8c-403e-c129-535f53eb6a6e"
      },
      "source": [
        "print(sess.run(matrix_1))\n",
        "sess.close()"
      ],
      "execution_count": 4,
      "outputs": [
        {
          "output_type": "stream",
          "text": [
            "[[[1 2]\n",
            "  [3 4]\n",
            "  [5 6]]]\n"
          ],
          "name": "stdout"
        }
      ]
    },
    {
      "cell_type": "markdown",
      "metadata": {
        "id": "eNg0MHwOMUkF",
        "colab_type": "text"
      },
      "source": [
        "### b) Multiply matrices"
      ]
    },
    {
      "cell_type": "markdown",
      "metadata": {
        "id": "odwN-Q4NPU_j",
        "colab_type": "text"
      },
      "source": [
        "Code:"
      ]
    },
    {
      "cell_type": "code",
      "metadata": {
        "id": "b75EWEwyMJrN",
        "colab_type": "code",
        "colab": {}
      },
      "source": [
        "sess = tf.Session()\n",
        "sess.run(tf.global_variables_initializer())\n",
        "matrix_2_1 = tf.constant([[[9, 6], [3, 7], [2, 1]]], tf.int32)\n",
        "matrix_2_2 = tf.constant([[[1, 4, 6], [8, 2, 4]]], tf.int32)\n",
        "result_2 = tf.matmul(matrix_2_1, matrix_2_2)"
      ],
      "execution_count": 5,
      "outputs": []
    },
    {
      "cell_type": "markdown",
      "metadata": {
        "id": "Dxvx2fgKPWSz",
        "colab_type": "text"
      },
      "source": [
        "Output:"
      ]
    },
    {
      "cell_type": "code",
      "metadata": {
        "id": "iRuZctO8PYJ7",
        "colab_type": "code",
        "colab": {
          "base_uri": "https://localhost:8080/",
          "height": 68
        },
        "outputId": "f35bc524-bf3b-46bc-89df-59440bc7fab9"
      },
      "source": [
        "print(sess.run(result_2))\n",
        "sess.close()"
      ],
      "execution_count": 6,
      "outputs": [
        {
          "output_type": "stream",
          "text": [
            "[[[57 48 78]\n",
            "  [59 26 46]\n",
            "  [10 10 16]]]\n"
          ],
          "name": "stdout"
        }
      ]
    },
    {
      "cell_type": "markdown",
      "metadata": {
        "id": "OvZbQK3kMfBx",
        "colab_type": "text"
      },
      "source": [
        "### c) Multiply matrices"
      ]
    },
    {
      "cell_type": "markdown",
      "metadata": {
        "id": "SuACBtZFPNOK",
        "colab_type": "text"
      },
      "source": [
        "Code:"
      ]
    },
    {
      "cell_type": "code",
      "metadata": {
        "id": "4w2xhOvTMjDa",
        "colab_type": "code",
        "colab": {}
      },
      "source": [
        "sess = tf.Session()\n",
        "sess.run(tf.global_variables_initializer())\n",
        "matrix_3_1 = tf.constant([[[5, 6, 1], [8, 7, 9], [1, 5, 2]]], tf.int32)\n",
        "matrix_3_2 = tf.constant([[[4, 6, 7], [2, 5, 1], [0, 3, 9]]], tf.int32)\n",
        "result_3 = tf.matmul(matrix_3_1, matrix_3_2)"
      ],
      "execution_count": 7,
      "outputs": []
    },
    {
      "cell_type": "markdown",
      "metadata": {
        "id": "KNmO_G-sPPDj",
        "colab_type": "text"
      },
      "source": [
        "Output:"
      ]
    },
    {
      "cell_type": "code",
      "metadata": {
        "id": "lugDztHHPREc",
        "colab_type": "code",
        "colab": {
          "base_uri": "https://localhost:8080/",
          "height": 68
        },
        "outputId": "dc121348-dc83-4df2-939f-21d8d25a6218"
      },
      "source": [
        "print(sess.run(result_3))\n",
        "sess.close()"
      ],
      "execution_count": 8,
      "outputs": [
        {
          "output_type": "stream",
          "text": [
            "[[[ 32  63  50]\n",
            "  [ 46 110 144]\n",
            "  [ 14  37  30]]]\n"
          ],
          "name": "stdout"
        }
      ]
    },
    {
      "cell_type": "markdown",
      "metadata": {
        "id": "1-hJsYJaM4Ab",
        "colab_type": "text"
      },
      "source": [
        "### d) Multiply matrices"
      ]
    },
    {
      "cell_type": "markdown",
      "metadata": {
        "id": "aVMVGkajPAUc",
        "colab_type": "text"
      },
      "source": [
        "Code:"
      ]
    },
    {
      "cell_type": "code",
      "metadata": {
        "id": "dlwfoY6lM0Xd",
        "colab_type": "code",
        "colab": {}
      },
      "source": [
        "sess = tf.Session()\n",
        "sess.run(tf.global_variables_initializer())\n",
        "matrix_4_1 = tf.constant([[[2], [3], [4]]], tf.int32)\n",
        "matrix_4_2 = tf.constant([[[6, 4, 3]]], tf.int32)\n",
        "result_4 = tf.matmul(matrix_4_1, matrix_4_2)\n"
      ],
      "execution_count": 9,
      "outputs": []
    },
    {
      "cell_type": "markdown",
      "metadata": {
        "id": "F3PbWsCLPCDx",
        "colab_type": "text"
      },
      "source": [
        "Output:"
      ]
    },
    {
      "cell_type": "code",
      "metadata": {
        "id": "7FnQUh3TPDzj",
        "colab_type": "code",
        "colab": {
          "base_uri": "https://localhost:8080/",
          "height": 68
        },
        "outputId": "e6dafeda-fb04-4703-fd42-199a1cdd18c1"
      },
      "source": [
        "print(sess.run(result_4))\n",
        "sess.close()"
      ],
      "execution_count": 10,
      "outputs": [
        {
          "output_type": "stream",
          "text": [
            "[[[12  8  6]\n",
            "  [18 12  9]\n",
            "  [24 16 12]]]\n"
          ],
          "name": "stdout"
        }
      ]
    },
    {
      "cell_type": "markdown",
      "metadata": {
        "id": "z33HJy5hLx0k",
        "colab_type": "text"
      },
      "source": [
        "## Exercise 2:"
      ]
    },
    {
      "cell_type": "markdown",
      "metadata": {
        "id": "P73PMmmUNDT8",
        "colab_type": "text"
      },
      "source": [
        "Using TensorFlow 1.x and Keras, implement\n",
        "a neural network from the below image. As the activation\n",
        "function, use ReLu and softmax"
      ]
    },
    {
      "cell_type": "markdown",
      "metadata": {
        "id": "nJvW5qD2NJYq",
        "colab_type": "text"
      },
      "source": [
        "This neural network has 3 neurons in the input layer, 2\n",
        "neurons in the hidden layer, and only one neuron in the\n",
        "output layer"
      ]
    },
    {
      "cell_type": "markdown",
      "metadata": {
        "id": "Si_hwcRFOz22",
        "colab_type": "text"
      },
      "source": [
        "Code:"
      ]
    },
    {
      "cell_type": "code",
      "metadata": {
        "id": "NrCtyEXBKc1t",
        "colab_type": "code",
        "colab": {
          "base_uri": "https://localhost:8080/",
          "height": 88
        },
        "outputId": "84300104-b2f8-4dd8-fe25-3df5b3e240f3"
      },
      "source": [
        "model = Sequential()\n",
        "model.add(Dense(2, input_dim=3, activation='relu'))\n",
        "model.add(Dense(1, activation='softmax'))"
      ],
      "execution_count": 11,
      "outputs": [
        {
          "output_type": "stream",
          "text": [
            "WARNING:tensorflow:From /tensorflow-1.15.2/python3.6/tensorflow_core/python/ops/resource_variable_ops.py:1630: calling BaseResourceVariable.__init__ (from tensorflow.python.ops.resource_variable_ops) with constraint is deprecated and will be removed in a future version.\n",
            "Instructions for updating:\n",
            "If using Keras pass *_constraint arguments to layers.\n"
          ],
          "name": "stdout"
        }
      ]
    },
    {
      "cell_type": "markdown",
      "metadata": {
        "id": "JzgB_Bm7O10j",
        "colab_type": "text"
      },
      "source": [
        "Output:"
      ]
    },
    {
      "cell_type": "code",
      "metadata": {
        "id": "mganbcQyO7eD",
        "colab_type": "code",
        "colab": {
          "base_uri": "https://localhost:8080/",
          "height": 312
        },
        "outputId": "54c914b2-86ed-4fb6-80d6-48f41d5e74e7"
      },
      "source": [
        "plot_model(model, to_file='plot_of_mode.png', show_shapes=True, show_layer_names=True)"
      ],
      "execution_count": 13,
      "outputs": [
        {
          "output_type": "execute_result",
          "data": {
            "image/png": "[encoded data removed]",
            "text/plain": [
              "<IPython.core.display.Image object>"
            ]
          },
          "metadata": {
            "tags": []
          },
          "execution_count": 13
        }
      ]
    },
    {
      "cell_type": "code",
      "metadata": {
        "id": "wrFMp709OEgw",
        "colab_type": "code",
        "colab": {}
      },
      "source": [
        ""
      ],
      "execution_count": null,
      "outputs": []
    },
    {
      "cell_type": "markdown",
      "metadata": {
        "id": "SmFd0brHOF36",
        "colab_type": "text"
      },
      "source": [
        "## Prepared by:"
      ]
    },
    {
      "cell_type": "markdown",
      "metadata": {
        "id": "T1jkKQK4OMM_",
        "colab_type": "text"
      },
      "source": [
        "Viktor Surzhko"
      ]
    }
  ]
}